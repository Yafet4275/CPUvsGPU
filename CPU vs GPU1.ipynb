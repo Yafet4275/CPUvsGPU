{
 "cells": [
  {
   "cell_type": "code",
   "execution_count": 11,
   "id": "30122403",
   "metadata": {},
   "outputs": [],
   "source": [
    "import torch\n",
    "import time"
   ]
  },
  {
   "cell_type": "code",
   "execution_count": 13,
   "id": "b1394b50",
   "metadata": {},
   "outputs": [
    {
     "name": "stdout",
     "output_type": "stream",
     "text": [
      "cuda\n"
     ]
    }
   ],
   "source": [
    "# Check if CUDA is available and get the device\n",
    "device = torch.device(\"cuda\" if torch.cuda.is_available() else \"cpu\")\n",
    "print(device)"
   ]
  },
  {
   "cell_type": "code",
   "execution_count": 20,
   "id": "79855d43",
   "metadata": {
    "scrolled": false
   },
   "outputs": [
    {
     "name": "stdout",
     "output_type": "stream",
     "text": [
      "gpu_properties:  _CudaDeviceProperties(name='NVIDIA GeForce RTX 3060', major=8, minor=6, total_memory=11938MB, multi_processor_count=28)\n",
      "gpu_name:  NVIDIA GeForce RTX 3060\n",
      "sm_count:  28\n",
      "Using GPU: NVIDIA GeForce RTX 3060\n",
      "Number of streaming multiprocessors: 28\n",
      "Number of CUDA cores: 3584\n"
     ]
    }
   ],
   "source": [
    "# Get GPU properties\n",
    "gpu_properties = torch.cuda.get_device_properties(device)\n",
    "gpu_name = gpu_properties.name\n",
    "sm_count = gpu_properties.multi_processor_count\n",
    "print('gpu_properties: ',gpu_properties)\n",
    "print('gpu_name: ',gpu_name)\n",
    "print('sm_count: ',sm_count)\n",
    "# Estimate the number of CUDA cores per SM based on the architecture\n",
    "cores_per_sm = {\n",
    "    \"sm_70\": 64,  # V100\n",
    "    \"sm_75\": 64,  # T4, 2080Ti\n",
    "    \"sm_80\": 64,  # A100\n",
    "    \"sm_86\": 128,  # 3090, 3080, A40, A30\n",
    "    \"sm_87\": 128,  # A10, A16\n",
    "    \"sm_89\": 128,  # RTX 3060\n",
    "    # Add more architectures if needed\n",
    "}\n",
    "arch = f\"sm_{gpu_properties.major}{gpu_properties.minor}\"\n",
    "num_cores = sm_count * cores_per_sm.get(arch, 64)  # Default to 64 if architecture is unknown\n",
    "print(f\"Using GPU: {gpu_name}\")\n",
    "print(f\"Number of streaming multiprocessors: {sm_count}\")\n",
    "print(f\"Number of CUDA cores: {num_cores}\")"
   ]
  },
  {
   "cell_type": "code",
   "execution_count": 21,
   "id": "6960f07f",
   "metadata": {
    "scrolled": true
   },
   "outputs": [
    {
     "name": "stdout",
     "output_type": "stream",
     "text": [
      "Time taken for matrix multiplication: 0.23913240432739258 seconds\n",
      "GPU utilization: 9.599606102885742%\n"
     ]
    }
   ],
   "source": [
    "# Define a large matrix size\n",
    "matrix_size = 10000\n",
    "\n",
    "# Create two large random matrices on the GPU\n",
    "a = torch.randn(matrix_size, matrix_size, device=device)\n",
    "b = torch.randn(matrix_size, matrix_size, device=device)\n",
    "\n",
    "# Start the timer\n",
    "start_time = time.time()\n",
    "\n",
    "# Perform matrix multiplication\n",
    "result = torch.matmul(a, b)\n",
    "\n",
    "# Synchronize and stop the timer\n",
    "torch.cuda.synchronize()\n",
    "end_time = time.time()\n",
    "\n",
    "# Calculate the elapsed time\n",
    "elapsed_time = end_time - start_time\n",
    "print(f\"Time taken for matrix multiplication: {elapsed_time} seconds\")\n",
    "\n",
    "# Check if the GPU is being utilized\n",
    "gpu_utilization = torch.cuda.memory_allocated(device) / torch.cuda.get_device_properties(device).total_memory * 100\n",
    "print(f\"GPU utilization: {gpu_utilization}%\")"
   ]
  },
  {
   "cell_type": "code",
   "execution_count": 22,
   "id": "963d2c4a",
   "metadata": {},
   "outputs": [
    {
     "name": "stdout",
     "output_type": "stream",
     "text": [
      "Time taken for matrix multiplication on CPU: 2.0462284088134766 seconds\n",
      "CPU utilization during the computation: 2.1%\n"
     ]
    }
   ],
   "source": [
    "# Check if CUDA is available and get the device\n",
    "device = torch.device(\"cpu\")\n",
    "# Create two large random matrices on the CPU\n",
    "a = torch.randn(matrix_size, matrix_size, device=device)\n",
    "b = torch.randn(matrix_size, matrix_size, device=device)\n",
    "# Start the timer\n",
    "start_time = time.time()\n",
    "\n",
    "# Perform matrix multiplication\n",
    "result = torch.matmul(a, b)\n",
    "\n",
    "# Stop the timer\n",
    "end_time = time.time()\n",
    "\n",
    "# Calculate the elapsed time\n",
    "elapsed_time = end_time - start_time\n",
    "print(f\"Time taken for matrix multiplication on CPU: {elapsed_time} seconds\")\n",
    "\n",
    "# Check CPU utilization (this is just an approximation)\n",
    "import psutil\n",
    "\n",
    "cpu_usage = psutil.cpu_percent(interval=1)\n",
    "print(f\"CPU utilization during the computation: {cpu_usage}%\")"
   ]
  }
 ],
 "metadata": {
  "kernelspec": {
   "display_name": "Python 3 (ipykernel)",
   "language": "python",
   "name": "python3"
  },
  "language_info": {
   "codemirror_mode": {
    "name": "ipython",
    "version": 3
   },
   "file_extension": ".py",
   "mimetype": "text/x-python",
   "name": "python",
   "nbconvert_exporter": "python",
   "pygments_lexer": "ipython3",
   "version": "3.10.12"
  }
 },
 "nbformat": 4,
 "nbformat_minor": 5
}
